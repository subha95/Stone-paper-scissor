{
 "cells": [
  {
   "cell_type": "code",
   "execution_count": 10,
   "metadata": {},
   "outputs": [],
   "source": [
    "\n",
    "import random\n",
    "import math\n",
    "\n",
    "def play():\n",
    "    USER_ACTION=input(\"ENTER CHOICE BETWEEN 'r' FOR ROCK 'p' FOR PAPER AND 's' FOR SCISSOR::\")\n",
    "    USER_ACTION=USER_ACTION.lower()\n",
    "    \n",
    "    possible_actions = [\"r\", \"p\", \"s\"]\n",
    "    COMPUTER_ACTION = random.choice(possible_actions)\n",
    "    if USER_ACTION==COMPUTER_ACTION:\n",
    "        return \"You and Computer both give same {}.So MATCH TIE \".format(COMPUTER_ACTION)\n",
    "    if win(USER_ACTION,COMPUTER_ACTION):\n",
    "        return \"You have chosen {} and computer has chosen {}.YOU WIN\".format(USER_ACTION,COMPUTER_ACTION)\n",
    "    return \"You have chosen {} and computer has chosen {}.YOU LOSS\".format(USER_ACTION,COMPUTER_ACTION)\n",
    "\n",
    "def win(player,oponent):\n",
    "    if(player=='r' and oponent=='s') or (player=='p' and oponent=='r') or(player=='s' and oponent=='p'):\n",
    "        return True\n",
    "    return False\n"
   ]
  },
  {
   "cell_type": "code",
   "execution_count": 9,
   "metadata": {},
   "outputs": [
    {
     "name": "stdout",
     "output_type": "stream",
     "text": [
      "5\n"
     ]
    }
   ],
   "source": [
    "play_best_of(9)"
   ]
  },
  {
   "cell_type": "code",
   "execution_count": 3,
   "metadata": {},
   "outputs": [
    {
     "name": "stdout",
     "output_type": "stream",
     "text": [
      "/// ROCK PAPER SCISSOR GAME////\n",
      "ENTER CHOICE BETWEEN 'r' FOR ROCK 'p' FOR PAPER AND 's' FOR SCISSOR::s\n"
     ]
    },
    {
     "data": {
      "text/plain": [
       "'You have chosen s and computer has chosen r.YOU LOSS'"
      ]
     },
     "execution_count": 3,
     "metadata": {},
     "output_type": "execute_result"
    }
   ],
   "source": [
    "print(\"/// ROCK PAPER SCISSOR GAME////\")\n",
    "play()"
   ]
  },
  {
   "cell_type": "code",
   "execution_count": 25,
   "metadata": {},
   "outputs": [
    {
     "data": {
      "text/plain": [
       "'scissors'"
      ]
     },
     "execution_count": 25,
     "metadata": {},
     "output_type": "execute_result"
    }
   ],
   "source": [
    "computer_action"
   ]
  },
  {
   "cell_type": "code",
   "execution_count": 4,
   "metadata": {},
   "outputs": [
    {
     "name": "stdout",
     "output_type": "stream",
     "text": [
      "ENTER CHOICE BETWEEN 'r' FOR ROCK 'p' FOR PAPER AND 's' FOR SCISSOR::p\n"
     ]
    },
    {
     "data": {
      "text/plain": [
       "'You and Computer both give same p.So MATCH TIE '"
      ]
     },
     "execution_count": 4,
     "metadata": {},
     "output_type": "execute_result"
    }
   ],
   "source": [
    "play()"
   ]
  },
  {
   "cell_type": "code",
   "execution_count": 2,
   "metadata": {},
   "outputs": [],
   "source": [
    "import random\n",
    "import math\n",
    "\n",
    "def play():\n",
    "   \n",
    "    USER_ACTION=input(\"ENTER CHOICE BETWEEN 'r' FOR ROCK 'p' FOR PAPER AND 's' FOR SCISSOR::\")\n",
    "    USER_ACTION=USER_ACTION.lower()\n",
    "    \n",
    "    possible_actions = [\"r\", \"p\", \"s\"]\n",
    "    COMPUTER_ACTION = random.choice(possible_actions)\n",
    "    if USER_ACTION==COMPUTER_ACTION:\n",
    "        return (0,USER_ACTION,COMPUTER_ACTION)\n",
    "    if win(USER_ACTION,COMPUTER_ACTION):\n",
    "        return (1,USER_ACTION,COMPUTER_ACTION)\n",
    "    return (-1,USER_ACTION,COMPUTER_ACTION)\n",
    "\n",
    "def win(player,oponent):\n",
    "    if(player=='r' and oponent=='s') or (player=='p' and oponent=='r') or(player=='s' and oponent=='p'):\n",
    "        return True\n",
    "    return False\n",
    "\n",
    "def play_best_of(n):\n",
    "    player_win=0\n",
    "    computer_win=0\n",
    "    wins_necessary=math.ceil(n/2)\n",
    "    \n",
    "    while player_win<wins_necessary and computer_win<wins_necessary:\n",
    "        result,USER_ACTION,COMPUTER_ACTION=play()\n",
    "        if result == 0:\n",
    "            print('It is a tie. You and the computer have both chosen {}. \\n'.format(USER_ACTION))\n",
    "        \n",
    "        elif result == 1:\n",
    "            player_win+= 1\n",
    "            print('You chose {} and the computer chose {}. You won!\\n'.format(USER_ACTION,COMPUTER_ACTION))\n",
    "        else:\n",
    "            computer_win+= 1\n",
    "            print('You chose {} and the computer chose {}. You lost :(\\n'.format(USER_ACTION,COMPUTER_ACTION))\n",
    "    if player_win > computer_win:\n",
    "        print('You have won the best of {} games! What a champ :D'.format(n))\n",
    "    else:\n",
    "        print('Unfortunately, the computer has won the best of {} games. Better luck next time!'.format(n))\n"
   ]
  },
  {
   "cell_type": "code",
   "execution_count": 5,
   "metadata": {},
   "outputs": [
    {
     "name": "stdout",
     "output_type": "stream",
     "text": [
      "ENTER CHOICE BETWEEN 'r' FOR ROCK 'p' FOR PAPER AND 's' FOR SCISSOR::u\n",
      "You chose u and the computer chose s. You lost :(\n",
      "\n",
      "ENTER CHOICE BETWEEN 'r' FOR ROCK 'p' FOR PAPER AND 's' FOR SCISSOR::u\n",
      "You chose u and the computer chose p. You lost :(\n",
      "\n",
      "Unfortunately, the computer has won the best of 3 games. Better luck next time!\n"
     ]
    }
   ],
   "source": [
    "play_best_of(3)"
   ]
  },
  {
   "cell_type": "code",
   "execution_count": null,
   "metadata": {},
   "outputs": [],
   "source": []
  }
 ],
 "metadata": {
  "kernelspec": {
   "display_name": "Python 3",
   "language": "python",
   "name": "python3"
  },
  "language_info": {
   "codemirror_mode": {
    "name": "ipython",
    "version": 3
   },
   "file_extension": ".py",
   "mimetype": "text/x-python",
   "name": "python",
   "nbconvert_exporter": "python",
   "pygments_lexer": "ipython3",
   "version": "3.8.5"
  }
 },
 "nbformat": 4,
 "nbformat_minor": 4
}
